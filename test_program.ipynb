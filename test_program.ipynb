{
  "nbformat": 4,
  "nbformat_minor": 0,
  "metadata": {
    "colab": {
      "provenance": [],
      "machine_shape": "hm"
    },
    "kernelspec": {
      "name": "python3",
      "display_name": "Python 3"
    },
    "language_info": {
      "name": "python"
    },
    "accelerator": "GPU",
    "gpuClass": "standard"
  },
  "cells": [
    {
      "cell_type": "markdown",
      "source": [
        "<a href=\"https://colab.research.google.com/drive/1ReqmBn_5RspTQKHHVP1pPI_NJ6SdnlYG?usp=sharing\" target=\"_parent\"><img src=\"https://colab.research.google.com/assets/colab-badge.svg\" alt=\"Open In Colab\"/></a>\n",
        "\n",
        "# Overload and normal vehicle detection\n",
        "\n",
        "* 과적(불법)차량과 일반차량을 분류할 수 있는 노트북입니다.\n",
        "* 실행하기전 런타임을 GPU로 맞춘다면 더 나은속도와 성능이 보장됩니다. \n",
        "  * Runtime >> Change Runtime Type >> GPU\n",
        "\n",
        "\n"
      ],
      "metadata": {
        "id": "HVNtB61fT0yd"
      }
    },
    {
      "cell_type": "markdown",
      "source": [
        "# Instructions\n",
        "* Ctrl+f9 (모두 실행)를 이용하여 진행하거나, Step옆의 ![image.png](data:image/png;base64,iVBORw0KGgoAAAANSUhEUgAAABoAAAAeCAYAAAAy2w7YAAAAAXNSR0IArs4c6QAAAARnQU1BAACxjwv8YQUAAAAJcEhZcwAADsMAAA7DAcdvqGQAAAF5SURBVEhL7ZWxcYMwFIZFUlICOwAzwBCwAwxASZWOzgPADjAEzADeAZjB8a+I2BKSgJzt3OXyNZI40CfpPT2MOI4v5AW8sfbp/It+zMtEu7LOdV3i+z5tPc8j4ziS8/lMpmkifd/T/hZakeM4JEkSOrkOiIuioK0Kpej6nERRxEbbQNJ1Hanrmj3heb+u9oP1vzkqAaZp0p0bhkGGYWBPb6ySAcd1VHJPEAQ0liIrEWKiQheDBSw0TVM2usGJwjDUBh4Bb5qGjdRAJu6KE+EFHdgRgr1HhutwDyeybZv19ECWZZn2KLU7kgVRBSS6oxQXvUqGI0CmOgUxDJwIJWUvmCjPc5pAMtq2Zb0vONGemgUw+el00maouGhOhAK5Be6I7J6IiInCieZ5lpaPBd1R3YM5tEeHVVRVxUZrtqr4gqywciIAWVmWbHQcpLss1isRwIt7br8IvlH9Jn7/x7cAmWVZtIVwqR5IX+z8Ib/yRyKN0TP4ayJCPgG126xf/iiOwwAAAABJRU5ErkJggg==) 버튼을 눌러서 진행할 수 있습니다.\n"
      ],
      "metadata": {
        "id": "xmUesdDHUTUC"
      }
    },
    {
      "cell_type": "code",
      "execution_count": 6,
      "metadata": {
        "cellView": "form",
        "id": "MDgBKxBoLwhZ"
      },
      "outputs": [],
      "source": [
        "%%capture\n",
        "#@title Step 1: 모델구동을 위한 colab 환경설정\n",
        "#@markdown git clone을 이용하여 모델과 requirements.txt를 불러온뒤 로드하는 과정입니다. (10초) <br>\n",
        "#@markdown step 1을 두번실행할 경우 폴더가 중복설치됩니다. 꼭 한번만 눌러주세요.\n",
        "\n",
        "\n",
        "!git clone https://github.com/TaeyanG4/AI_16_Taeyang_CP1_DS.git\n",
        "%cd AI_16_Taeyang_CP1_DS\n",
        "!git clone https://github.com/ultralytics/yolov5.git\n",
        "!pip install -r ./AI_16_Taeyang_CP1_DS/requirements.txt"
      ]
    },
    {
      "cell_type": "code",
      "source": [
        "#@title Step 2: 영상 업로드\n",
        "#@markdown 검증하고자 하는 영상를 업로드 하는과정입니다.<br>\n",
        "#@markdown 검증하고자 하는파일이 없다면 input_samples폴더에서 랜덤으로 다운로드하여 사용해도 상관없습니다.<br>\n",
        "\n",
        "import os\n",
        "from google.colab import files\n",
        "\n",
        "# 경로 설정\n",
        "input_dir = '/content/AI_16_Taeyang_CP1_DS/input'\n",
        "if not os.path.exists(input_dir):\n",
        "    os.makedirs(input_dir)\n",
        "\n",
        "%cd input\n",
        "uploaded = files.upload()"
      ],
      "metadata": {
        "cellView": "form",
        "id": "3FQjkjfaYZmG"
      },
      "execution_count": 5,
      "outputs": []
    },
    {
      "cell_type": "code",
      "source": [
        "#@title Step 3: 영상 검증\n",
        "#@markdown 업로드한 영상속 차량이 불법차량인지 정상차량인지 판별하는 과정입니다.<br>\n",
        "#@markdown - 검증이 완료된 영상은 AI_16_Taeyang_CP1_DS -> output에서 확인가능합니다.<br>\n",
        "#@markdown - 첫 실행시 추가 라이브러리(gitpython,setuptools)를 설치하기 때문에 조금 느릴수 있습니다.<br>\n",
        "\n",
        "import os\n",
        "import shutil\n",
        "\n",
        "%cd ../yolov5\n",
        "# input 폴더 경로\n",
        "input_dir = '../input'\n",
        "\n",
        "# mp4 파일 검색\n",
        "mp4_files = [os.path.join(input_dir, file) for file in os.listdir(input_dir) if file.endswith('.mp4')]\n",
        "\n",
        "# 검증 명령어 실행\n",
        "for file in mp4_files:\n",
        "    !python detect.py --source '{file}' --weights ../model/best.pt\n",
        "\n",
        "# exp 폴더 경로\n",
        "exp_dir = './runs/detect/exp'\n",
        "\n",
        "# output 폴더 경로\n",
        "output_dir = '../output'\n",
        "\n",
        "# output 폴더가 없으면 생성\n",
        "if not os.path.exists(output_dir):\n",
        "    os.makedirs(output_dir)\n",
        "\n",
        "# 검증된 mp4 파일 검색 및 이동\n",
        "for file in os.listdir(exp_dir):\n",
        "    if file.endswith('.mp4'):\n",
        "        src = os.path.join(exp_dir, file)\n",
        "        dst = os.path.join(output_dir, file)\n",
        "        shutil.move(src, dst)\n",
        "\n",
        "%cd .."
      ],
      "metadata": {
        "id": "zTYfX8fIZz6Q",
        "cellView": "form"
      },
      "execution_count": 4,
      "outputs": []
    }
  ]
}